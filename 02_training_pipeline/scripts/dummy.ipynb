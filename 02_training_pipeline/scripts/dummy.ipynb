{
 "cells": [
  {
   "cell_type": "code",
   "execution_count": 1,
   "id": "c6c01b0c-6997-436b-997e-7ffec7b5a19f",
   "metadata": {},
   "outputs": [],
   "source": [
    "from utils import *\n",
    "from constants import *"
   ]
  },
  {
   "cell_type": "code",
   "execution_count": 2,
   "id": "fef146b3-dbad-4fcb-b8df-6ea5a17452db",
   "metadata": {},
   "outputs": [
    {
     "name": "stdout",
     "output_type": "stream",
     "text": [
      "Connecting to database\n",
      "Reading data from interactions_mapped table\n",
      "Table interactions_mapped columns:  Index(['created_date', 'city_tier', 'first_platform_c', 'first_utm_medium_c',\n",
      "       'first_utm_source_c', 'total_leads_droppped', 'referred_lead',\n",
      "       'app_complete_flag', 'assistance_interaction', 'career_interaction',\n",
      "       'payment_interaction', 'social_interaction', 'syllabus_interaction'],\n",
      "      dtype='object')\n",
      "Dropping 'created_date' column from interactions_mapped dataframe\n",
      "Converting 'city_tier' column from float to category in interactions_mapped dataframe\n",
      "Creating empty dataframe with features needed in final dataframe\n",
      "Encoding categorical variables:  ['city_tier', 'first_platform_c', 'first_utm_medium_c', 'first_utm_source_c']\n",
      "Encoded dataframe columns:  Index(['city_tier_1.0', 'city_tier_2.0', 'city_tier_3.0',\n",
      "       'first_platform_c_Level0', 'first_platform_c_Level1',\n",
      "       'first_platform_c_Level2', 'first_platform_c_Level3',\n",
      "       'first_platform_c_Level7', 'first_platform_c_Level8',\n",
      "       'first_platform_c_others', 'first_utm_medium_c_Level0',\n",
      "       'first_utm_medium_c_Level10', 'first_utm_medium_c_Level11',\n",
      "       'first_utm_medium_c_Level13', 'first_utm_medium_c_Level15',\n",
      "       'first_utm_medium_c_Level16', 'first_utm_medium_c_Level2',\n",
      "       'first_utm_medium_c_Level20', 'first_utm_medium_c_Level26',\n",
      "       'first_utm_medium_c_Level3', 'first_utm_medium_c_Level30',\n",
      "       'first_utm_medium_c_Level33', 'first_utm_medium_c_Level4',\n",
      "       'first_utm_medium_c_Level43', 'first_utm_medium_c_Level5',\n",
      "       'first_utm_medium_c_Level6', 'first_utm_medium_c_Level8',\n",
      "       'first_utm_medium_c_Level9', 'first_utm_medium_c_others',\n",
      "       'first_utm_source_c_Level0', 'first_utm_source_c_Level14',\n",
      "       'first_utm_source_c_Level16', 'first_utm_source_c_Level2',\n",
      "       'first_utm_source_c_Level4', 'first_utm_source_c_Level5',\n",
      "       'first_utm_source_c_Level6', 'first_utm_source_c_Level7',\n",
      "       'first_utm_source_c_others', 'total_leads_droppped', 'referred_lead'],\n",
      "      dtype='object')\n",
      "Saving the processed dataframe in the db in a table named 'features'\n",
      "Saving the target variable 'app_complete_flag' in the db in a table named 'target'\n",
      "Closing database connection\n"
     ]
    }
   ],
   "source": [
    "encode_features(DB_PATH, DB_FILE_NAME, ONE_HOT_ENCODED_FEATURES, FEATURES_TO_ENCODE)"
   ]
  },
  {
   "cell_type": "code",
   "execution_count": 3,
   "id": "6a3438bb-90df-4b43-a699-15b1aadd8f4d",
   "metadata": {},
   "outputs": [
    {
     "name": "stdout",
     "output_type": "stream",
     "text": [
      "Set MLflow tracking url and create/set experiment\n",
      "Creating mlflow experiment with name:  Lead_scoring_mlflow_production\n",
      "Setting mlflow experiment to name:  Lead_scoring_mlflow_production\n",
      "Connecting to database\n",
      "Reading data from features table\n",
      "Reading data from target table\n",
      "Splitting data from train and test\n",
      "Starting mlflow run:  Lead_scoring_mlflow_production_run_10_01_2023_00_00_00\n",
      "Instantiated LGBMClassifier\n",
      "Setting model configurations:  {'boosting_type': 'gbdt', 'class_weight': None, 'colsample_bytree': 1.0, 'importance_type': 'split', 'learning_rate': 0.1, 'max_depth': -1, 'min_child_samples': 20, 'min_child_weight': 0.001, 'min_split_gain': 0.0, 'n_estimators': 100, 'n_jobs': -1, 'num_leaves': 31, 'objective': 'binary', 'random_state': 42, 'reg_alpha': 0.0, 'reg_lambda': 0.0, 'silent': 'warn', 'subsample': 1.0, 'subsample_for_bin': 200000, 'subsample_freq': 0, 'num_boost_round': 200, 'metric': 'roc_auc', 'categorical_feature': [], 'verbose': -1, 'force_row_wise': True, 'max_bin': 255}\n",
      "Starting LGBMClassifier model training\n"
     ]
    },
    {
     "name": "stderr",
     "output_type": "stream",
     "text": [
      "/opt/conda/lib/python3.8/site-packages/sklearn/utils/validation.py:72: DataConversionWarning: A column-vector y was passed when a 1d array was expected. Please change the shape of y to (n_samples, ), for example using ravel().\n",
      "  return f(**kwargs)\n",
      "/opt/conda/lib/python3.8/site-packages/lightgbm/engine.py:177: UserWarning: Found `num_boost_round` in params. Will use it instead of argument\n",
      "  _log_warning(f\"Found `{alias}` in params. Will use it instead of argument\")\n",
      "/opt/conda/lib/python3.8/site-packages/lightgbm/basic.py:1487: UserWarning: categorical_feature keyword has been found in `params` and will be ignored.\n",
      "Please use categorical_feature argument of the Dataset constructor to pass this parameter.\n",
      "  _log_warning(f'{key} keyword has been found in `params` and will be ignored.\\n'\n"
     ]
    },
    {
     "name": "stdout",
     "output_type": "stream",
     "text": [
      "[LightGBM] [Warning] num_iterations is set=200, num_boost_round=200 will be ignored. Current value: num_iterations=200\n",
      "Logging model to mlflow with name as LightGBM\n"
     ]
    },
    {
     "name": "stderr",
     "output_type": "stream",
     "text": [
      "Registered model 'LightGBM' already exists. Creating a new version of this model...\n",
      "2023/01/10 10:54:51 INFO mlflow.tracking._model_registry.client: Waiting up to 300 seconds for model version to finish creation.                     Model name: LightGBM, version 2\n",
      "Created version '2' of model 'LightGBM'.\n"
     ]
    },
    {
     "name": "stdout",
     "output_type": "stream",
     "text": [
      "Logging model params in mlflow\n",
      "Making prediction on test data\n",
      "Computing metrics on test data\n",
      "Acc: 0.7394597535203901, Precision: 0.7392239310714048, Recall: 0.7488979965690827, f1: 0.7368394789760333, AUC: 0.7488979965690827\n",
      "Logging metrics in MLflow\n",
      "Inside MLflow Run with id 9ab1b0c9c38b40d5b7dd7a5724481d79\n",
      "Closing database connection\n"
     ]
    }
   ],
   "source": [
    "get_trained_model(DB_PATH, DB_FILE_NAME)"
   ]
  },
  {
   "cell_type": "code",
   "execution_count": null,
   "id": "6ea749ee-cc05-4afa-b23c-66bacd9b6693",
   "metadata": {},
   "outputs": [],
   "source": []
  }
 ],
 "metadata": {
  "kernelspec": {
   "display_name": "Python 3 (ipykernel)",
   "language": "python",
   "name": "python3"
  },
  "language_info": {
   "codemirror_mode": {
    "name": "ipython",
    "version": 3
   },
   "file_extension": ".py",
   "mimetype": "text/x-python",
   "name": "python",
   "nbconvert_exporter": "python",
   "pygments_lexer": "ipython3",
   "version": "3.8.12"
  }
 },
 "nbformat": 4,
 "nbformat_minor": 5
}
