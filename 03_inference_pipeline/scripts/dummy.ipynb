{
 "cells": [
  {
   "cell_type": "code",
   "execution_count": 1,
   "id": "999dcb89-645d-4367-b65d-446359ab91b5",
   "metadata": {},
   "outputs": [],
   "source": [
    "from utils import *\n",
    "from constants import *"
   ]
  },
  {
   "cell_type": "code",
   "execution_count": 2,
   "id": "422db9a8-a061-440d-8965-89fed81ec42b",
   "metadata": {},
   "outputs": [
    {
     "name": "stdout",
     "output_type": "stream",
     "text": [
      "Connecting to database\n",
      "Reading data from interactions_mapped table\n",
      "Table interactions_mapped columns:  Index(['created_date', 'city_tier', 'first_platform_c', 'first_utm_medium_c',\n",
      "       'first_utm_source_c', 'total_leads_droppped', 'referred_lead',\n",
      "       'app_complete_flag', 'assistance_interaction', 'career_interaction',\n",
      "       'payment_interaction', 'social_interaction', 'syllabus_interaction'],\n",
      "      dtype='object')\n",
      "Dropping 'created_date' column from interactions_mapped dataframe\n",
      "Converting 'city_tier' column from float to category in interactions_mapped dataframe\n",
      "Creating empty dataframe with features needed in final dataframe\n",
      "Encoding categorical variables:  ['city_tier', 'first_platform_c', 'first_utm_medium_c', 'first_utm_source_c']\n",
      "Encoded dataframe columns:  Index(['city_tier_1.0', 'city_tier_2.0', 'city_tier_3.0',\n",
      "       'first_platform_c_Level0', 'first_platform_c_Level1',\n",
      "       'first_platform_c_Level2', 'first_platform_c_Level3',\n",
      "       'first_platform_c_Level7', 'first_platform_c_Level8',\n",
      "       'first_platform_c_others', 'first_utm_medium_c_Level0',\n",
      "       'first_utm_medium_c_Level10', 'first_utm_medium_c_Level11',\n",
      "       'first_utm_medium_c_Level13', 'first_utm_medium_c_Level15',\n",
      "       'first_utm_medium_c_Level16', 'first_utm_medium_c_Level2',\n",
      "       'first_utm_medium_c_Level20', 'first_utm_medium_c_Level26',\n",
      "       'first_utm_medium_c_Level3', 'first_utm_medium_c_Level30',\n",
      "       'first_utm_medium_c_Level33', 'first_utm_medium_c_Level4',\n",
      "       'first_utm_medium_c_Level43', 'first_utm_medium_c_Level5',\n",
      "       'first_utm_medium_c_Level6', 'first_utm_medium_c_Level8',\n",
      "       'first_utm_medium_c_Level9', 'first_utm_medium_c_others',\n",
      "       'first_utm_source_c_Level0', 'first_utm_source_c_Level14',\n",
      "       'first_utm_source_c_Level16', 'first_utm_source_c_Level2',\n",
      "       'first_utm_source_c_Level4', 'first_utm_source_c_Level5',\n",
      "       'first_utm_source_c_Level6', 'first_utm_source_c_Level7',\n",
      "       'first_utm_source_c_others', 'total_leads_droppped', 'referred_lead'],\n",
      "      dtype='object')\n",
      "Saving the processed dataframe in the db in a table named 'features'\n"
     ]
    }
   ],
   "source": [
    "encode_features(DB_PATH, DB_FILE_NAME, ONE_HOT_ENCODED_FEATURES, FEATURES_TO_ENCODE)"
   ]
  },
  {
   "cell_type": "code",
   "execution_count": 3,
   "id": "7a60e3db-ba5c-4ece-91a9-64d45b26fb1a",
   "metadata": {},
   "outputs": [
    {
     "name": "stdout",
     "output_type": "stream",
     "text": [
      "Connecting to database\n",
      "Reading data from features table\n",
      "Table features columns:  Index(['city_tier_1.0', 'city_tier_2.0', 'city_tier_3.0',\n",
      "       'first_platform_c_Level0', 'first_platform_c_Level1',\n",
      "       'first_platform_c_Level2', 'first_platform_c_Level3',\n",
      "       'first_platform_c_Level7', 'first_platform_c_Level8',\n",
      "       'first_platform_c_others', 'first_utm_medium_c_Level0',\n",
      "       'first_utm_medium_c_Level10', 'first_utm_medium_c_Level11',\n",
      "       'first_utm_medium_c_Level13', 'first_utm_medium_c_Level15',\n",
      "       'first_utm_medium_c_Level16', 'first_utm_medium_c_Level2',\n",
      "       'first_utm_medium_c_Level20', 'first_utm_medium_c_Level26',\n",
      "       'first_utm_medium_c_Level3', 'first_utm_medium_c_Level30',\n",
      "       'first_utm_medium_c_Level33', 'first_utm_medium_c_Level4',\n",
      "       'first_utm_medium_c_Level43', 'first_utm_medium_c_Level5',\n",
      "       'first_utm_medium_c_Level6', 'first_utm_medium_c_Level8',\n",
      "       'first_utm_medium_c_Level9', 'first_utm_medium_c_others',\n",
      "       'first_utm_source_c_Level0', 'first_utm_source_c_Level14',\n",
      "       'first_utm_source_c_Level16', 'first_utm_source_c_Level2',\n",
      "       'first_utm_source_c_Level4', 'first_utm_source_c_Level5',\n",
      "       'first_utm_source_c_Level6', 'first_utm_source_c_Level7',\n",
      "       'first_utm_source_c_others', 'total_leads_droppped', 'referred_lead'],\n",
      "      dtype='object')\n",
      "All the models input are present\n"
     ]
    }
   ],
   "source": [
    "input_features_check(DB_PATH, DB_FILE_NAME, ONE_HOT_ENCODED_FEATURES)"
   ]
  },
  {
   "cell_type": "code",
   "execution_count": 4,
   "id": "fc823804-8da6-4768-8680-24ae57bfae3d",
   "metadata": {},
   "outputs": [
    {
     "name": "stdout",
     "output_type": "stream",
     "text": [
      "Connecting to database\n",
      "Reading data from features table\n",
      "Setting mlflow tracking url and mlflow experiment\n",
      "Setting mlflow tracking uri:  http://0.0.0.0:6006\n",
      "Setting mlflow experiment to name:  Lead_scoring_mlflow_production\n",
      "Loading model:  /home/mlruns/1/fabd1b45950948d191b2ba86f73ff18f/artifacts/models\n",
      "Predicting application completion probability for leads\n",
      "Predicting 'app_complete_flag' value for the leads\n",
      "Creating copy of input dataframe\n",
      "Adding 'app_complete_flag' column in dataframe\n",
      "Adding 'prob_app_complete_flag_no' and 'prob_app_complete_flag_yes' column in dataframe\n",
      "Saving the pred_df dataframe in the db in a table named 'predictions'\n",
      "Predictions are done and save in predictions Table\n"
     ]
    }
   ],
   "source": [
    "get_models_prediction(DB_PATH, DB_FILE_NAME, MODEL_NAME, STAGE)"
   ]
  },
  {
   "cell_type": "code",
   "execution_count": 5,
   "id": "5b48cd2e-6e11-4e7c-a261-7c8855893f32",
   "metadata": {},
   "outputs": [
    {
     "name": "stdout",
     "output_type": "stream",
     "text": [
      "Connecting to database\n",
      "Reading data from predictions table\n",
      "Calculating the % of 1 and 0 predicted by the model\n",
      "Dataframe size:  238964\n",
      "Count of 1's:  141172\n",
      "Count of 0's:  97792\n",
      "Percentage of 1's:  59.07668100634405\n",
      "Percentage of 0's:  40.92331899365595\n",
      "Opening file:  /home/assignment/03_inference_pipeline/scripts/prediction_distribution.txt\n",
      "Writing data in file\n",
      "Closing file\n"
     ]
    }
   ],
   "source": [
    "prediction_ratio_check(DB_PATH, DB_FILE_NAME)"
   ]
  },
  {
   "cell_type": "code",
   "execution_count": null,
   "id": "b24858f8-83c2-488a-ab6d-c8e48bd41f65",
   "metadata": {},
   "outputs": [],
   "source": []
  }
 ],
 "metadata": {
  "kernelspec": {
   "display_name": "Python 3 (ipykernel)",
   "language": "python",
   "name": "python3"
  },
  "language_info": {
   "codemirror_mode": {
    "name": "ipython",
    "version": 3
   },
   "file_extension": ".py",
   "mimetype": "text/x-python",
   "name": "python",
   "nbconvert_exporter": "python",
   "pygments_lexer": "ipython3",
   "version": "3.8.12"
  }
 },
 "nbformat": 4,
 "nbformat_minor": 5
}
